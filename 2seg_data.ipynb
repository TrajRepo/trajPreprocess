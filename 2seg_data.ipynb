{
 "cells": [
  {
   "cell_type": "code",
   "execution_count": 23,
   "metadata": {
    "pycharm": {
     "name": "#%%\n"
    }
   },
   "outputs": [
    {
     "data": {
      "text/html": [
       "<div>\n",
       "<style scoped>\n",
       "    .dataframe tbody tr th:only-of-type {\n",
       "        vertical-align: middle;\n",
       "    }\n",
       "\n",
       "    .dataframe tbody tr th {\n",
       "        vertical-align: top;\n",
       "    }\n",
       "\n",
       "    .dataframe thead th {\n",
       "        text-align: right;\n",
       "    }\n",
       "</style>\n",
       "<table border=\"1\" class=\"dataframe\">\n",
       "  <thead>\n",
       "    <tr style=\"text-align: right;\">\n",
       "      <th></th>\n",
       "      <th>time</th>\n",
       "      <th>icao24</th>\n",
       "      <th>lat</th>\n",
       "      <th>lon</th>\n",
       "      <th>baroaltitude</th>\n",
       "    </tr>\n",
       "  </thead>\n",
       "  <tbody>\n",
       "    <tr>\n",
       "      <th>0</th>\n",
       "      <td>-28800</td>\n",
       "      <td>0</td>\n",
       "      <td>0.712793</td>\n",
       "      <td>0.113518</td>\n",
       "      <td>0.108725</td>\n",
       "    </tr>\n",
       "    <tr>\n",
       "      <th>1</th>\n",
       "      <td>-28800</td>\n",
       "      <td>1</td>\n",
       "      <td>0.708481</td>\n",
       "      <td>0.113015</td>\n",
       "      <td>0.117587</td>\n",
       "    </tr>\n",
       "    <tr>\n",
       "      <th>2</th>\n",
       "      <td>-28800</td>\n",
       "      <td>2</td>\n",
       "      <td>0.712011</td>\n",
       "      <td>0.114348</td>\n",
       "      <td>0.327880</td>\n",
       "    </tr>\n",
       "    <tr>\n",
       "      <th>3</th>\n",
       "      <td>-28790</td>\n",
       "      <td>0</td>\n",
       "      <td>0.712936</td>\n",
       "      <td>0.113526</td>\n",
       "      <td>0.113838</td>\n",
       "    </tr>\n",
       "    <tr>\n",
       "      <th>4</th>\n",
       "      <td>-28790</td>\n",
       "      <td>1</td>\n",
       "      <td>0.708366</td>\n",
       "      <td>0.113003</td>\n",
       "      <td>0.116564</td>\n",
       "    </tr>\n",
       "    <tr>\n",
       "      <th>5</th>\n",
       "      <td>-28790</td>\n",
       "      <td>2</td>\n",
       "      <td>0.712173</td>\n",
       "      <td>0.114337</td>\n",
       "      <td>0.331288</td>\n",
       "    </tr>\n",
       "    <tr>\n",
       "      <th>6</th>\n",
       "      <td>-28790</td>\n",
       "      <td>3</td>\n",
       "      <td>0.785423</td>\n",
       "      <td>0.523083</td>\n",
       "      <td>0.249148</td>\n",
       "    </tr>\n",
       "    <tr>\n",
       "      <th>7</th>\n",
       "      <td>-28790</td>\n",
       "      <td>4</td>\n",
       "      <td>0.680608</td>\n",
       "      <td>0.605421</td>\n",
       "      <td>0.522836</td>\n",
       "    </tr>\n",
       "    <tr>\n",
       "      <th>8</th>\n",
       "      <td>-28790</td>\n",
       "      <td>5</td>\n",
       "      <td>0.697623</td>\n",
       "      <td>0.557910</td>\n",
       "      <td>0.536810</td>\n",
       "    </tr>\n",
       "    <tr>\n",
       "      <th>9</th>\n",
       "      <td>-28790</td>\n",
       "      <td>6</td>\n",
       "      <td>0.786225</td>\n",
       "      <td>0.272312</td>\n",
       "      <td>0.156442</td>\n",
       "    </tr>\n",
       "  </tbody>\n",
       "</table>\n",
       "</div>"
      ],
      "text/plain": [
       "    time  icao24       lat       lon  baroaltitude\n",
       "0 -28800       0  0.712793  0.113518      0.108725\n",
       "1 -28800       1  0.708481  0.113015      0.117587\n",
       "2 -28800       2  0.712011  0.114348      0.327880\n",
       "3 -28790       0  0.712936  0.113526      0.113838\n",
       "4 -28790       1  0.708366  0.113003      0.116564\n",
       "5 -28790       2  0.712173  0.114337      0.331288\n",
       "6 -28790       3  0.785423  0.523083      0.249148\n",
       "7 -28790       4  0.680608  0.605421      0.522836\n",
       "8 -28790       5  0.697623  0.557910      0.536810\n",
       "9 -28790       6  0.786225  0.272312      0.156442"
      ]
     },
     "execution_count": 23,
     "metadata": {},
     "output_type": "execute_result"
    }
   ],
   "source": [
    "import os\n",
    "import pandas as pd\n",
    "# data = pd.read_csv('normal_state_2020-0907.csv')\n",
    "data = pd.read_csv('normal.csv')\n",
    "# data.sort_values(by=['segment','time'], inplace=True)\n",
    "data.head(10)"
   ]
  },
  {
   "cell_type": "markdown",
   "metadata": {
    "pycharm": {
     "name": "#%% md\n"
    }
   },
   "source": [
    "# 优化数据集"
   ]
  },
  {
   "cell_type": "code",
   "execution_count": 24,
   "metadata": {},
   "outputs": [
    {
     "name": "stdout",
     "output_type": "stream",
     "text": [
      "313\n",
      "<class 'pandas.core.frame.DataFrame'>\n",
      "Int64Index: 70900 entries, 0 to 80792\n",
      "Data columns (total 5 columns):\n",
      " #   Column        Non-Null Count  Dtype  \n",
      "---  ------        --------------  -----  \n",
      " 0   time          70900 non-null  int64  \n",
      " 1   icao24        70900 non-null  int64  \n",
      " 2   lat           70900 non-null  float64\n",
      " 3   lon           70900 non-null  float64\n",
      " 4   baroaltitude  70900 non-null  float64\n",
      "dtypes: float64(3), int64(2)\n",
      "memory usage: 3.2 MB\n"
     ]
    }
   ],
   "source": [
    "id_list = data['icao24'].unique()\n",
    "abandon_id = [5, 10, 26, 131, 149, 156, 179, 190, 191,192, 216, 225, 262, 268, 329, 11, 53, 67, 83, 34, 62, 146, 172, 175, 185, 245, 228, 229]\n",
    "icao24_list = [id for id in id_list if id not in abandon_id]\n",
    "print(len(icao24_list))\n",
    "data = data[data['icao24'].isin(icao24_list)]\n",
    "data.info()"
   ]
  },
  {
   "cell_type": "markdown",
   "metadata": {
    "pycharm": {
     "name": "#%% md\n"
    }
   },
   "source": [
    "## 可视化\n"
   ]
  },
  {
   "cell_type": "code",
   "execution_count": 25,
   "metadata": {},
   "outputs": [],
   "source": [
    "import numpy as np\n",
    "import matplotlib.pyplot as plt\n",
    "from mpl_toolkits.mplot3d import Axes3D\n",
    "def show_3D(obs_traj):\n",
    "    fig = plt.figure()\n",
    "    ax = Axes3D(fig)\n",
    "    line_width = 0.5\n",
    "    ax.plot(obs_traj[:, 2], obs_traj[:, 3], obs_traj[:, 4], color='r', label='traj',linewidth=line_width)\n",
    "    ax.legend()\n",
    "    plt.show()"
   ]
  },
  {
   "cell_type": "code",
   "execution_count": 26,
   "metadata": {},
   "outputs": [],
   "source": [
    "# id_list = data['icao24'].unique()\n",
    "# for id in id_list:\n",
    "#     plt_data = data[data['icao24'] ==id]\n",
    "#     print(id)\n",
    "#     show_3D(np.array(plt_data))"
   ]
  },
  {
   "cell_type": "markdown",
   "metadata": {
    "pycharm": {
     "name": "#%% md\n"
    }
   },
   "source": [
    "# 验证"
   ]
  },
  {
   "cell_type": "code",
   "execution_count": 27,
   "metadata": {},
   "outputs": [],
   "source": [
    "grouped=data.groupby('icao24')\n",
    "for name,group in grouped:\n",
    "    if (group['time'].iloc[0]) + (len(group['time']) - 1) * 10 != group['time'].iloc[-1]:\n",
    "        print (group['icao24'].unique())\n",
    "        print (group['time'].iloc[-1])\n",
    "        print (len(group['time']))"
   ]
  },
  {
   "cell_type": "markdown",
   "metadata": {
    "pycharm": {
     "name": "#%% md\n"
    }
   },
   "source": [
    "# 数据集划分"
   ]
  },
  {
   "cell_type": "code",
   "execution_count": 28,
   "metadata": {
    "pycharm": {
     "name": "#%%\n"
    }
   },
   "outputs": [
    {
     "data": {
      "text/plain": [
       "319    99\n",
       "4      99\n",
       "19     99\n",
       "35     99\n",
       "43     99\n",
       "       ..\n",
       "7       5\n",
       "318     4\n",
       "275     3\n",
       "292     3\n",
       "271     2\n",
       "Name: icao24, Length: 177, dtype: int64"
      ]
     },
     "execution_count": 28,
     "metadata": {},
     "output_type": "execute_result"
    }
   ],
   "source": [
    "## 将训练集、验证集、测试集按照7:2:1划分\n",
    "\n",
    "train_row = int(.7*len(data))\n",
    "val_row = int(.9*len(data))\n",
    "\n",
    "train = data.iloc[:train_row]\n",
    "val = data.iloc[train_row:val_row]\n",
    "test = data.iloc[val_row:]\n",
    "# 统计航迹点\n",
    "train['icao24'].value_counts()\n",
    "val['icao24'].value_counts()"
   ]
  },
  {
   "cell_type": "code",
   "execution_count": 29,
   "metadata": {
    "pycharm": {
     "name": "#%%\n"
    }
   },
   "outputs": [],
   "source": [
    "# 过滤掉轨迹长度小于30的点\n",
    "train = train.groupby(by=[train['icao24']]).filter(lambda x: len(x) >= 30)\n",
    "val = val.groupby(by=[val['icao24']]).filter(lambda x: len(x) >= 30)\n",
    "test = test.groupby(by=[test['icao24']]).filter(lambda x: len(x) >= 30)"
   ]
  },
  {
   "cell_type": "code",
   "execution_count": 30,
   "metadata": {
    "pycharm": {
     "name": "#%%\n"
    }
   },
   "outputs": [
    {
     "data": {
      "text/plain": [
       "0      193\n",
       "2      193\n",
       "107    192\n",
       "43     192\n",
       "54     192\n",
       "      ... \n",
       "209     40\n",
       "283     38\n",
       "325     38\n",
       "14      36\n",
       "49      31\n",
       "Name: icao24, Length: 313, dtype: int64"
      ]
     },
     "execution_count": 30,
     "metadata": {},
     "output_type": "execute_result"
    }
   ],
   "source": [
    "train['icao24'].value_counts()"
   ]
  },
  {
   "cell_type": "code",
   "execution_count": 31,
   "metadata": {
    "pycharm": {
     "name": "#%%\n"
    }
   },
   "outputs": [
    {
     "data": {
      "text/plain": [
       "319    99\n",
       "295    99\n",
       "3      99\n",
       "19     99\n",
       "35     99\n",
       "       ..\n",
       "240    37\n",
       "45     37\n",
       "124    36\n",
       "152    34\n",
       "291    32\n",
       "Name: icao24, Length: 150, dtype: int64"
      ]
     },
     "execution_count": 31,
     "metadata": {},
     "output_type": "execute_result"
    }
   ],
   "source": [
    "val['icao24'].value_counts()\n"
   ]
  },
  {
   "cell_type": "code",
   "execution_count": 32,
   "metadata": {
    "pycharm": {
     "name": "#%%\n"
    }
   },
   "outputs": [
    {
     "data": {
      "text/plain": [
       "323    69\n",
       "304    69\n",
       "319    69\n",
       "114    69\n",
       "130    69\n",
       "       ..\n",
       "249    43\n",
       "106    42\n",
       "242    36\n",
       "232    34\n",
       "119    31\n",
       "Name: icao24, Length: 106, dtype: int64"
      ]
     },
     "execution_count": 32,
     "metadata": {},
     "output_type": "execute_result"
    }
   ],
   "source": [
    "test['icao24'].value_counts()"
   ]
  },
  {
   "cell_type": "code",
   "execution_count": 33,
   "metadata": {
    "pycharm": {
     "name": "#%%\n"
    }
   },
   "outputs": [],
   "source": [
    "dataset_path = 'states20210830_small'\n",
    "train_path = os.path.join(dataset_path,\"train\")\n",
    "val_path = os.path.join(dataset_path,\"val\")\n",
    "test_path = os.path.join(dataset_path,\"test\")\n",
    "\n",
    "if not os.path.exists(train_path):\n",
    "    os.makedirs(train_path)\n",
    "\n",
    "if not os.path.exists(val_path):\n",
    "    os.makedirs(val_path)\n",
    "\n",
    "if not os.path.exists(test_path):\n",
    "    os.makedirs(test_path)\n",
    "\n",
    "train_file = os.path.join(train_path, 'train.txt')\n",
    "val_file = os.path.join(val_path, 'val.txt')\n",
    "test_file = os.path.join(test_path, 'test.txt')\n",
    "# 保存文件\n",
    "train.to_csv(train_file, index=False, sep='\\t', header=0)\n",
    "val.to_csv(val_file, index=False, sep='\\t',header=0)\n",
    "test.to_csv(test_file, index=False, sep='\\t',header=0)\n",
    "\n",
    "def process_txt(filename):\n",
    "    with open(filename, \"r+\") as csv_file:\n",
    "        content = csv_file.read()\n",
    "    with open(filename, \"w+\") as csv_file:\n",
    "        csv_file.write(content.replace('\"', ''))\n",
    "process_txt(\"{}/train/train.txt\".format(dataset_path))\n",
    "process_txt(\"{}/test/test.txt\".format(dataset_path))\n",
    "process_txt(\"{}/val/val.txt\".format(dataset_path))#%%"
   ]
  },
  {
   "cell_type": "markdown",
   "metadata": {
    "pycharm": {
     "name": "#%% md\n"
    }
   },
   "source": [
    "将数据只保留时间、icao24、经度、纬度、高度"
   ]
  },
  {
   "cell_type": "code",
   "execution_count": 34,
   "metadata": {
    "pycharm": {
     "name": "#%%\n"
    }
   },
   "outputs": [],
   "source": [
    "# import pandas as pd\n",
    "\n",
    "# data = pd.read_csv('normal_climb_H8D_train.csv', usecols=['time', 'icao24', 'lat', 'lon', 'baroaltitude'])\n",
    "# data.to_csv(\"normal_climb_H8D_train_3d.csv\", index=False)\n",
    "\n"
   ]
  }
 ],
 "metadata": {
  "kernelspec": {
   "display_name": "Python 3",
   "language": "python",
   "name": "python3"
  },
  "language_info": {
   "codemirror_mode": {
    "name": "ipython",
    "version": 3
   },
   "file_extension": ".py",
   "mimetype": "text/x-python",
   "name": "python",
   "nbconvert_exporter": "python",
   "pygments_lexer": "ipython3",
   "version": "3.7.1"
  }
 },
 "nbformat": 4,
 "nbformat_minor": 1
}