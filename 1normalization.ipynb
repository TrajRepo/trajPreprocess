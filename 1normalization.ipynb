{
 "cells": [
  {
   "cell_type": "code",
   "execution_count": 12,
   "metadata": {
    "pycharm": {
     "name": "#%%\n"
    }
   },
   "outputs": [
    {
     "name": "stdout",
     "output_type": "stream",
     "text": [
      "<class 'pandas.core.frame.DataFrame'>\n",
      "Int64Index: 80793 entries, 0 to 80848\n",
      "Data columns (total 5 columns):\n",
      " #   Column        Non-Null Count  Dtype  \n",
      "---  ------        --------------  -----  \n",
      " 0   time          80793 non-null  float64\n",
      " 1   icao24        80793 non-null  object \n",
      " 2   lat           80793 non-null  float64\n",
      " 3   lon           80793 non-null  float64\n",
      " 4   baroaltitude  80793 non-null  float64\n",
      "dtypes: float64(4), object(1)\n",
      "memory usage: 3.7+ MB\n"
     ]
    }
   ],
   "source": [
    "import pandas as pd\n",
    "# filepaths = ['filter_dup_2020-09-07-01.csv', 'filter_dup_2020-09-07-02.csv']\n",
    "# list_ = []\n",
    "# for file_ in filepaths:\n",
    "#     df = pd.read_csv(file_,index_col=None, header=0)\n",
    "#     list_.append(df)\n",
    "# data = pd.concat(list_, axis = 0, ignore_index = True)\n",
    "data = pd.read_csv('preprocess.csv',index_col=None, header=0)\n",
    "columns=['time', 'icao24', 'lat', 'lon', 'baroaltitude']\n",
    "data = data[columns]\n",
    "# data.groupby('icao24').apply(lambda x: print(len(x)))\n",
    "\n",
    "# 过滤20点以下的数据\n",
    "data = data.groupby(by=[data['icao24']]).filter(lambda x: len(x) >= 20)\n",
    "# 连接字符\n",
    "# data['id'] = data['segment'].apply(str).str.cat(data['callsign'].apply(str), sep='_').str.cat(data['maxtimestep'].apply(str), sep='_')\n",
    "\n",
    "data.info()"
   ]
  },
  {
   "cell_type": "code",
   "execution_count": 13,
   "metadata": {
    "pycharm": {
     "name": "#%%\n"
    }
   },
   "outputs": [
    {
     "name": "stdout",
     "output_type": "stream",
     "text": [
      "['06a120' '406948' 'a5d140' '02a1b3' '040078' '345686' '3949e4' '39cf0a'\n",
      " '406814' '406d7a' '406e11' '406e66' '4070ec' '407177' '4242bd' '424344'\n",
      " '4243dd' '42454d' '4245fb' '424970' '440002' '440102' '4404bd' '4408ff'\n",
      " '452086' '45ce4b' '471f92' '48412b' '4892c0' '49d3d6' '4ac962' '4ba892'\n",
      " '4ba914' '4ba9c1' '4bb186' '4bccba' '4bce04' '4caaab' '4d012f' '504e68'\n",
      " '507c46' '515309' '600b21' '710058' '71c038' '780a3e' '780a64' '781073'\n",
      " '781921' '781be8' '7c1ca2' '7c32f3' '7c4ed8' '7c6d26' '7c77f4' '7c80fc'\n",
      " '7c81d8' '7cf86e' '8005f3' '800bfa' '800d33' '8013f8' '845ebc' '846866'\n",
      " '846adc' '846def' '84b794' '84bac2' '8518f2' '861b64' '86d215' '86d295'\n",
      " '86da40' '8880e2' '896317' '8a0377' 'a017a8' 'a01bbc' 'a02cf1' 'a03397'\n",
      " 'a033f9' 'a037b9' 'a04695' 'a04a4d' 'a05269' 'a0563b' 'a07177' 'a08e3c'\n",
      " 'a0ac93' 'a0acfd' 'a0d374' 'a0d64f' 'a0e7ed' 'a105e8' 'a10d7f' 'a1235b'\n",
      " 'a12625' 'a14c53' 'a15212' 'a15c80' 'a16068' 'a17f45' 'a18194' 'a18e7d'\n",
      " 'a1b573' 'a1ba59' 'a1bb83' 'a1bd46' 'a1c0ec' 'a1c5e0' 'a1f46b' 'a1f5ff'\n",
      " 'a1f822' 'a1fcf9' 'a20d0e' 'a21d14' 'a223c1' 'a2348d' 'a25285' 'a2725d'\n",
      " 'a272b8' 'a28904' 'a29611' 'a2b7c6' 'a2bb10' 'a2d143' 'a2d44b' 'a2d6a2'\n",
      " 'a2d6a9' 'a2e93c' 'a2fad8' 'a30151' 'a31533' 'a31f99' 'a3271e' 'a32861'\n",
      " 'a33b23' 'a34b10' 'a35157' 'a35aa4' 'a35d9d' 'a385c8' 'a38c95' 'a38d34'\n",
      " 'a38d90' 'a39d95' 'a3a222' 'a3a235' 'a3b8e1' 'a3c15d' 'a3c5fd' 'a3e55a'\n",
      " 'a3eb11' 'a3fd7b' 'a40312' 'a403c6' 'a41c50' 'a4421d' 'a443d3' 'a447cd'\n",
      " 'a4491f' 'a45316' 'a46ad6' 'a481fd' 'a4b7d7' 'a4bd24' 'a4dab6' 'a4ec6b'\n",
      " 'a4f9af' 'a50bea' 'a51b1a' 'a54632' 'a561fd' 'a58a29' 'a5c927' 'a5f162'\n",
      " 'a638cf' 'a64db9' 'a64e67' 'a675ed' 'a67a34' 'a6873c' 'a68a73' 'a69c64'\n",
      " 'a6bf5a' 'a6c07f' 'a6c46f' 'a6d1e2' 'a6d34b' 'a6dc36' 'a6e376' 'a6e72d'\n",
      " 'a71f24' 'a72e1b' 'a74764' 'a77ad8' 'a79898' 'a7d085' 'a7d771' 'a7ede3'\n",
      " 'a7f39c' 'a7f4d7' 'a7fed0' 'a8050d' 'a810ac' 'a82a06' 'a84660' 'a857c2'\n",
      " 'a85f29' 'a86540' 'a86a66' 'a87942' 'a87f41' 'a8847f' 'a88819' 'a88d3c'\n",
      " 'a8df2c' 'a8e1cc' 'a8e733' 'a8f728' 'a920f4' 'a94b02' 'a9502a' 'a96c96'\n",
      " 'a97aff' 'a9819b' 'a992db' 'a99df4' 'a9b088' 'a9bf32' 'a9c151' 'a9fb4e'\n",
      " 'aa017c' 'aa26b3' 'aa3ae9' 'aa44ac' 'aa57df' 'aa7734' 'aa77c0' 'aa7e36'\n",
      " 'aaa5ae' 'aaa86a' 'aaa96f' 'aaa992' 'aaaddc' 'aabd56' 'aad3a0' 'aad766'\n",
      " 'ab10df' 'ab15c2' 'ab1817' 'ab19fb' 'ab20b6' 'ab24f7' 'ab2fb5' 'ab3014'\n",
      " 'ab40ce' 'ab48bf' 'ab4deb' 'ab52a2' 'ab77ee' 'abbb77' 'abbd2d' 'abbd73'\n",
      " 'abc07b' 'abc96f' 'abd254' 'abdc91' 'abdc9b' 'abdd67' 'abdf3f' 'abe19d'\n",
      " 'abe3e6' 'abe621' 'abf025' 'abf057' 'ac058a' 'ac0e70' 'ac141f' 'ac259b'\n",
      " 'ac2bd4' 'ac4507' 'ac4963' 'ac5371' 'ac5cd7' 'ac5d61' 'ac741c' 'ac769b'\n",
      " 'ac77d0' 'ac7aa9' 'ac8111' 'ac8b2e' 'ac9121' 'ac9e9f' 'aca20d' 'aca248'\n",
      " 'acab3f' 'acb4c1' 'accd09' 'acdde3' 'acfd29' 'ad08bd' 'ad0f29' 'ad12e0'\n",
      " 'ad185a' 'ad282f' 'ad2ce1' 'ad2fab' 'ad3d1f' 'ad3e16' 'ad3fde' 'ad5b90'\n",
      " 'ad5d5f' 'ad6b14' 'ad6bdc' 'ad6ecb' 'ad83b2' 'ad8b20' 'adaad1' 'ade543'\n",
      " 'adeddd' 'ae4e17' 'ae596e' 'ae638d' 'c008fd' 'c00b80' 'c00b9c' 'c02e92'\n",
      " 'c0336d' 'c04738' 'c05e9b' 'c0614d' 'c06644' 'c06703' 'c07fb1' 'c080a5'\n",
      " 'e48275' 'e483ba' 'e48b00' 'e49314' 'e4949f']\n"
     ]
    },
    {
     "data": {
      "text/html": [
       "<div>\n",
       "<style scoped>\n",
       "    .dataframe tbody tr th:only-of-type {\n",
       "        vertical-align: middle;\n",
       "    }\n",
       "\n",
       "    .dataframe tbody tr th {\n",
       "        vertical-align: top;\n",
       "    }\n",
       "\n",
       "    .dataframe thead th {\n",
       "        text-align: right;\n",
       "    }\n",
       "</style>\n",
       "<table border=\"1\" class=\"dataframe\">\n",
       "  <thead>\n",
       "    <tr style=\"text-align: right;\">\n",
       "      <th></th>\n",
       "      <th>time</th>\n",
       "      <th>lat</th>\n",
       "      <th>lon</th>\n",
       "      <th>baroaltitude</th>\n",
       "    </tr>\n",
       "    <tr>\n",
       "      <th>icao24</th>\n",
       "      <th></th>\n",
       "      <th></th>\n",
       "      <th></th>\n",
       "      <th></th>\n",
       "    </tr>\n",
       "  </thead>\n",
       "  <tbody>\n",
       "    <tr>\n",
       "      <th>02a1b3</th>\n",
       "      <td>354</td>\n",
       "      <td>354</td>\n",
       "      <td>354</td>\n",
       "      <td>354</td>\n",
       "    </tr>\n",
       "    <tr>\n",
       "      <th>040078</th>\n",
       "      <td>359</td>\n",
       "      <td>359</td>\n",
       "      <td>359</td>\n",
       "      <td>359</td>\n",
       "    </tr>\n",
       "    <tr>\n",
       "      <th>06a120</th>\n",
       "      <td>360</td>\n",
       "      <td>360</td>\n",
       "      <td>360</td>\n",
       "      <td>360</td>\n",
       "    </tr>\n",
       "    <tr>\n",
       "      <th>345686</th>\n",
       "      <td>290</td>\n",
       "      <td>290</td>\n",
       "      <td>290</td>\n",
       "      <td>290</td>\n",
       "    </tr>\n",
       "    <tr>\n",
       "      <th>3949e4</th>\n",
       "      <td>80</td>\n",
       "      <td>80</td>\n",
       "      <td>80</td>\n",
       "      <td>80</td>\n",
       "    </tr>\n",
       "    <tr>\n",
       "      <th>...</th>\n",
       "      <td>...</td>\n",
       "      <td>...</td>\n",
       "      <td>...</td>\n",
       "      <td>...</td>\n",
       "    </tr>\n",
       "    <tr>\n",
       "      <th>e48275</th>\n",
       "      <td>197</td>\n",
       "      <td>197</td>\n",
       "      <td>197</td>\n",
       "      <td>197</td>\n",
       "    </tr>\n",
       "    <tr>\n",
       "      <th>e483ba</th>\n",
       "      <td>81</td>\n",
       "      <td>81</td>\n",
       "      <td>81</td>\n",
       "      <td>81</td>\n",
       "    </tr>\n",
       "    <tr>\n",
       "      <th>e48b00</th>\n",
       "      <td>303</td>\n",
       "      <td>303</td>\n",
       "      <td>303</td>\n",
       "      <td>303</td>\n",
       "    </tr>\n",
       "    <tr>\n",
       "      <th>e49314</th>\n",
       "      <td>294</td>\n",
       "      <td>294</td>\n",
       "      <td>294</td>\n",
       "      <td>294</td>\n",
       "    </tr>\n",
       "    <tr>\n",
       "      <th>e4949f</th>\n",
       "      <td>65</td>\n",
       "      <td>65</td>\n",
       "      <td>65</td>\n",
       "      <td>65</td>\n",
       "    </tr>\n",
       "  </tbody>\n",
       "</table>\n",
       "<p>341 rows × 4 columns</p>\n",
       "</div>"
      ],
      "text/plain": [
       "        time  lat  lon  baroaltitude\n",
       "icao24                              \n",
       "02a1b3   354  354  354           354\n",
       "040078   359  359  359           359\n",
       "06a120   360  360  360           360\n",
       "345686   290  290  290           290\n",
       "3949e4    80   80   80            80\n",
       "...      ...  ...  ...           ...\n",
       "e48275   197  197  197           197\n",
       "e483ba    81   81   81            81\n",
       "e48b00   303  303  303           303\n",
       "e49314   294  294  294           294\n",
       "e4949f    65   65   65            65\n",
       "\n",
       "[341 rows x 4 columns]"
      ]
     },
     "execution_count": 13,
     "metadata": {},
     "output_type": "execute_result"
    }
   ],
   "source": [
    "id_list = data['icao24'].unique()\n",
    "print(id_list)\n",
    "data.groupby('icao24').count()"
   ]
  },
  {
   "cell_type": "code",
   "execution_count": 14,
   "metadata": {
    "pycharm": {
     "name": "#%%\n"
    }
   },
   "outputs": [
    {
     "data": {
      "image/png": "[encoded data removed]",
      "text/plain": [
       "<Figure size 432x288 with 1 Axes>"
      ]
     },
     "metadata": {
      "needs_background": "light"
     },
     "output_type": "display_data"
    }
   ],
   "source": [
    "# 对数据进行可视化分析\n",
    "import numpy as np\n",
    "import matplotlib.pyplot as plt\n",
    "from mpl_toolkits.mplot3d import Axes3D\n",
    "def show_3D(obs_traj):\n",
    "    fig = plt.figure()\n",
    "    ax = Axes3D(fig)\n",
    "    line_width = 0.5\n",
    "    ax.plot(obs_traj[:, 2], obs_traj[:, 3], obs_traj[:, 4], color='r', label='traj',linewidth=line_width)\n",
    "    ax.legend()\n",
    "    plt.show()\n",
    "plt_data = data[data['icao24'] == 'e80329']\n",
    "show_3D(np.array(plt_data))"
   ]
  },
  {
   "cell_type": "code",
   "execution_count": 15,
   "metadata": {
    "pycharm": {
     "name": "#%%\n"
    }
   },
   "outputs": [
    {
     "name": "stdout",
     "output_type": "stream",
     "text": [
      "1630252800.0\n",
      "经度lon的最小值 is -157.5161852155413\n",
      "经度lon的最大值 is 153.54330623851104\n",
      "经度lon的最大最小差值 is 311.05949145405236\n",
      "lat的最小值 is -37.73167419433594\n",
      "lat的最大值 is 63.35696411132813\n",
      "纬度lat的最大最小差值 is 101.08863830566406\n",
      "baroaltitude的最小值 is -68.58\n",
      "baroaltitude的最大值 is 13731.240000000002\n",
      "baroaltitude的最大最小差值 is 13799.820000000002\n"
     ]
    }
   ],
   "source": [
    "# time的最小值\n",
    "print(data['time'].min())\n",
    "\n",
    "#经度lon的最大最小值\n",
    "print(\"经度lon的最小值 is {}\".format(data['lon'].min()))\n",
    "print(\"经度lon的最大值 is {}\".format(data['lon'].max()))\n",
    "print(\"经度lon的最大最小差值 is {}\".format(data['lon'].max() - data['lon'].min()))\n",
    "\n",
    "#纬度lat的最大最小值\n",
    "print(\"lat的最小值 is {}\".format(data['lat'].min()))\n",
    "print(\"lat的最大值 is {}\".format(data['lat'].max()))\n",
    "print(\"纬度lat的最大最小差值 is {}\".format(data['lat'].max() - data['lat'].min()))\n",
    "\n",
    "#高度baroaltitude的最大最小值\n",
    "print(\"baroaltitude的最小值 is {}\".format(data['baroaltitude'].min()))\n",
    "print(\"baroaltitude的最大值 is {}\".format(data['baroaltitude'].max()))\n",
    "print(\"baroaltitude的最大最小差值 is {}\".format(data['baroaltitude'].max() - data['baroaltitude'].min()))\n",
    "\n",
    "#速度velocity的最大最小值\n",
    "# print(\"velocity的最小值 is {}\".format(data['velocity'].min()))\n",
    "# print(\"velocity的最大值 is {}\".format(data['velocity'].max()))\n",
    "# print(\"velocity的最大最小差值 is {}\".format(data['velocity'].max() - data['velocity'].min()))\n",
    "\n",
    "#角度heading的最大最小值\n",
    "# print(\"heading的最小值 is {}\".format(data['heading'].min()))\n",
    "# print(\"heading的最大值 is {}\".format(data['heading'].max()))\n",
    "# print(\"heading的最大最小差值 is {}\".format(data['heading'].max() - data['heading'].min()))"
   ]
  },
  {
   "cell_type": "code",
   "execution_count": 16,
   "metadata": {
    "pycharm": {
     "name": "#%%\n"
    }
   },
   "outputs": [],
   "source": [
    "STATE_PARAM={\n",
    "    'lon_max': 153.6899521771599,\n",
    "    'lon_min':  -157.5161852155413,\n",
    "    'lon_scale': 311.2061373927012,\n",
    "\n",
    "    'lat_max': 68.65235409494173,\n",
    "    'lat_min':  -38.503867973715614,\n",
    "    'lat_scale': 107.15622206865734,\n",
    "\n",
    "    'alt_max':  22250.4,\n",
    "    'alt_min':   -106.68,\n",
    "    'alt_scale': 22357.08,\n",
    "\n",
    "#     'vel_max': 229.926543136,\n",
    "#     'vel_min':  43.4388067974,\n",
    "#     'vel_scale': 186.4877363386,\n",
    "\n",
    "#     'head_max': 359.999714666,\n",
    "#     'head_min': 0.0,\n",
    "#     'head_scale': 359.999714666,\n",
    "}"
   ]
  },
  {
   "cell_type": "code",
   "execution_count": 17,
   "metadata": {
    "pycharm": {
     "name": "#%%\n"
    }
   },
   "outputs": [],
   "source": [
    "# import pandas as pd\n",
    "# data = pd.read_csv('climb_H8D_train.csv')\n",
    "# data = pd.DataFrame(data)\n",
    "\n",
    "\n",
    "# 将时间戳转化为真实时间\n",
    "# data['time'] = pd.to_datetime(data['time'],unit='s',origin=pd.Timestamp('1970-01-01'))\n",
    "\n",
    "# unique_icao24 = data['icao24'].unique()\n",
    "# print(\"icao24 lenth is \",len(unique_icao24))\n",
    "# real_datas = []\n",
    "# for id in unique_icao24:\n",
    "#     each_data = data[data['icao24'] == id]\n",
    "#     # 设置时间索引\n",
    "#     time_min = each_data['time'].min()\n",
    "#     time_max = len(each_data)+time_min\n",
    "#     each_data['time'] = [x for x in range(time_min, time_max)]\n",
    "#     real_datas.append(each_data)\n",
    "# data = pd.concat(real_datas, axis=0, ignore_index=True)\n",
    "# data.info()"
   ]
  },
  {
   "cell_type": "code",
   "execution_count": 18,
   "metadata": {
    "pycharm": {
     "name": "#%%\n"
    }
   },
   "outputs": [],
   "source": [
    "# data.head(10)"
   ]
  },
  {
   "cell_type": "code",
   "execution_count": 19,
   "metadata": {
    "pycharm": {
     "name": "#%%\n"
    }
   },
   "outputs": [],
   "source": [
    "# data.to_csv('resample_state_2020-0907.csv', index=False)"
   ]
  },
  {
   "cell_type": "code",
   "execution_count": 20,
   "metadata": {
    "pycharm": {
     "name": "#%%\n"
    }
   },
   "outputs": [],
   "source": [
    "# 判断每个icao24的时间是否连续\n",
    "# data = data.groupby(by=[data['icao24']]).filter(lambda x:print (x['time'].max()-x['time'].min()==((len(x)-1))))\n",
    "# data.info()"
   ]
  },
  {
   "cell_type": "code",
   "execution_count": 21,
   "metadata": {
    "pycharm": {
     "name": "#%%\n"
    }
   },
   "outputs": [
    {
     "data": {
      "text/html": [
       "<div>\n",
       "<style scoped>\n",
       "    .dataframe tbody tr th:only-of-type {\n",
       "        vertical-align: middle;\n",
       "    }\n",
       "\n",
       "    .dataframe tbody tr th {\n",
       "        vertical-align: top;\n",
       "    }\n",
       "\n",
       "    .dataframe thead th {\n",
       "        text-align: right;\n",
       "    }\n",
       "</style>\n",
       "<table border=\"1\" class=\"dataframe\">\n",
       "  <thead>\n",
       "    <tr style=\"text-align: right;\">\n",
       "      <th></th>\n",
       "      <th>time</th>\n",
       "      <th>icao24</th>\n",
       "      <th>lat</th>\n",
       "      <th>lon</th>\n",
       "      <th>baroaltitude</th>\n",
       "    </tr>\n",
       "  </thead>\n",
       "  <tbody>\n",
       "    <tr>\n",
       "      <th>0</th>\n",
       "      <td>-28800</td>\n",
       "      <td>0</td>\n",
       "      <td>0.712793</td>\n",
       "      <td>0.113518</td>\n",
       "      <td>0.108725</td>\n",
       "    </tr>\n",
       "    <tr>\n",
       "      <th>1</th>\n",
       "      <td>-28800</td>\n",
       "      <td>1</td>\n",
       "      <td>0.708481</td>\n",
       "      <td>0.113015</td>\n",
       "      <td>0.117587</td>\n",
       "    </tr>\n",
       "    <tr>\n",
       "      <th>2</th>\n",
       "      <td>-28800</td>\n",
       "      <td>2</td>\n",
       "      <td>0.712011</td>\n",
       "      <td>0.114348</td>\n",
       "      <td>0.327880</td>\n",
       "    </tr>\n",
       "    <tr>\n",
       "      <th>6</th>\n",
       "      <td>-28790</td>\n",
       "      <td>0</td>\n",
       "      <td>0.712936</td>\n",
       "      <td>0.113526</td>\n",
       "      <td>0.113838</td>\n",
       "    </tr>\n",
       "    <tr>\n",
       "      <th>13</th>\n",
       "      <td>-28790</td>\n",
       "      <td>1</td>\n",
       "      <td>0.708366</td>\n",
       "      <td>0.113003</td>\n",
       "      <td>0.116564</td>\n",
       "    </tr>\n",
       "    <tr>\n",
       "      <th>180</th>\n",
       "      <td>-28790</td>\n",
       "      <td>2</td>\n",
       "      <td>0.712173</td>\n",
       "      <td>0.114337</td>\n",
       "      <td>0.331288</td>\n",
       "    </tr>\n",
       "    <tr>\n",
       "      <th>3</th>\n",
       "      <td>-28790</td>\n",
       "      <td>3</td>\n",
       "      <td>0.785423</td>\n",
       "      <td>0.523083</td>\n",
       "      <td>0.249148</td>\n",
       "    </tr>\n",
       "    <tr>\n",
       "      <th>4</th>\n",
       "      <td>-28790</td>\n",
       "      <td>4</td>\n",
       "      <td>0.680608</td>\n",
       "      <td>0.605421</td>\n",
       "      <td>0.522836</td>\n",
       "    </tr>\n",
       "    <tr>\n",
       "      <th>7</th>\n",
       "      <td>-28790</td>\n",
       "      <td>5</td>\n",
       "      <td>0.697623</td>\n",
       "      <td>0.557910</td>\n",
       "      <td>0.536810</td>\n",
       "    </tr>\n",
       "    <tr>\n",
       "      <th>8</th>\n",
       "      <td>-28790</td>\n",
       "      <td>6</td>\n",
       "      <td>0.786225</td>\n",
       "      <td>0.272312</td>\n",
       "      <td>0.156442</td>\n",
       "    </tr>\n",
       "  </tbody>\n",
       "</table>\n",
       "</div>"
      ],
      "text/plain": [
       "      time  icao24       lat       lon  baroaltitude\n",
       "0   -28800       0  0.712793  0.113518      0.108725\n",
       "1   -28800       1  0.708481  0.113015      0.117587\n",
       "2   -28800       2  0.712011  0.114348      0.327880\n",
       "6   -28790       0  0.712936  0.113526      0.113838\n",
       "13  -28790       1  0.708366  0.113003      0.116564\n",
       "180 -28790       2  0.712173  0.114337      0.331288\n",
       "3   -28790       3  0.785423  0.523083      0.249148\n",
       "4   -28790       4  0.680608  0.605421      0.522836\n",
       "7   -28790       5  0.697623  0.557910      0.536810\n",
       "8   -28790       6  0.786225  0.272312      0.156442"
      ]
     },
     "execution_count": 21,
     "metadata": {},
     "output_type": "execute_result"
    }
   ],
   "source": [
    "time_min = 1630281600\n",
    "\n",
    "\n",
    "# 对单列数据操作进行归一化\n",
    "data['time'] = data['time'].astype('int64')\n",
    "data['time'] = data['time'].map(lambda x:int((int(x) - time_min)))\n",
    "data['icao24'] = data['icao24'].map(lambda x: list(id_list).index(x))\n",
    "data['lat'] = data['lat'].apply(lambda x: (x - STATE_PARAM['lat_min'])/STATE_PARAM['lat_scale'])\n",
    "data['lon'] = data['lon'].apply(lambda x: (x - STATE_PARAM['lon_min'])/STATE_PARAM['lon_scale'])\n",
    "data['baroaltitude'] = data['baroaltitude'].apply(lambda x: (x - STATE_PARAM['alt_min'])/STATE_PARAM['alt_scale'])\n",
    "# data['velocity'] = data['velocity'].apply(lambda x: (x - STATE_PARAM['vel_min'])/STATE_PARAM['vel_scale'])\n",
    "# data['heading'] = data['heading'].apply(lambda x: (x - STATE_PARAM['head_min'])/STATE_PARAM['head_scale'])\n",
    "data.sort_values(by=['time', 'icao24'], inplace=True)\n",
    "data.head(10)"
   ]
  },
  {
   "cell_type": "code",
   "execution_count": 22,
   "metadata": {
    "pycharm": {
     "name": "#%%\n"
    }
   },
   "outputs": [],
   "source": [
    "data.to_csv('normal.csv', index=False)"
   ]
  },
  {
   "cell_type": "markdown",
   "metadata": {
    "pycharm": {
     "name": "#%%\n"
    }
   },
   "source": [
    "# 其他(暂不执行)"
   ]
  },
  {
   "cell_type": "code",
   "execution_count": null,
   "metadata": {
    "pycharm": {
     "name": "#%%\n"
    }
   },
   "outputs": [],
   "source": [
    "grouped   = data.groupby(by=[data['icao24']])\n",
    "grouped.groups"
   ]
  },
  {
   "cell_type": "code",
   "execution_count": null,
   "metadata": {
    "pycharm": {
     "name": "#%%\n"
    }
   },
   "outputs": [],
   "source": [
    "data.set_index('time')\n",
    "real_datas = []\n",
    "icao24_list = data['icao24'].unique()\n",
    "icao24_list\n",
    "spec_data = data[data['icao24']== 1220]\n",
    "spec_data['time'].max()\n",
    "spec_data['time'].min()"
   ]
  },
  {
   "cell_type": "code",
   "execution_count": null,
   "metadata": {
    "pycharm": {
     "name": "#%%\n"
    }
   },
   "outputs": [],
   "source": [
    "for id in icao24_list:\n",
    "    spec_data = data[data['icao24']== id]\n",
    "    spec_data.sort_values(by=['time'],inplace=True)\n",
    "    spec_data.set_index('time')\n",
    "    max_time = spec_data['time'].max()\n",
    "    min_time = spec_data['time'].min()\n",
    "    new_index = pd.Index(range(min_time, max_time, 1))\n",
    "    spec_data.reindex(new_index)\n",
    "    spec_data.reset_index(drop=True, inplace=True)\n",
    "    real_datas.append(spec_data)"
   ]
  },
  {
   "cell_type": "code",
   "execution_count": null,
   "metadata": {
    "pycharm": {
     "name": "#%%\n"
    }
   },
   "outputs": [],
   "source": [
    "real_datas"
   ]
  },
  {
   "cell_type": "code",
   "execution_count": null,
   "metadata": {
    "pycharm": {
     "name": "#%%\n"
    }
   },
   "outputs": [],
   "source": [
    "data = pd.concat(real_datas, axis=0, ignore_index=True)\n",
    "data.head(10)\n",
    "\n"
   ]
  },
  {
   "cell_type": "code",
   "execution_count": null,
   "metadata": {
    "pycharm": {
     "name": "#%%\n"
    }
   },
   "outputs": [],
   "source": [
    "data.sort_values(by=['icao24','time'], inplace=True)\n",
    "data.to_csv('reindex_state_2020-0907.csv', index=False)"
   ]
  },
  {
   "cell_type": "code",
   "execution_count": null,
   "metadata": {
    "pycharm": {
     "name": "#%%\n"
    }
   },
   "outputs": [],
   "source": [
    "# 对轨迹进行切割\n",
    "def new_data_frame(origin, index):\n",
    "    \"\"\"\n",
    "    根据已有的数据结构构建新的dataframe，并且填充index索引处的数据\n",
    "    \"\"\"\n",
    "    new_data = pd.DataFrame(columns=origin.columns)\n",
    "    return new_data.append(origin.iloc[index])\n",
    "real_datas = []\n",
    "icao24_list = data['icao24'].unique()\n",
    "for id in icao24_list:\n",
    "    spec_data = data[data['icao24']== id]\n",
    "    spec_data.sort_values(by=['time'],inplace=True)\n",
    "    spec_data.reset_index(drop=True, inplace=True)\n",
    "    real_data = new_data_frame(spec_data, 0)\n",
    "    print(len(spec_data))\n",
    "    # 若轨迹长度不大于60，直接添加\n",
    "    if len(spec_data) <= 60:\n",
    "        real_datas.append(spec_data)\n",
    "        continue\n",
    "    # 若轨迹长度大于60， 对航迹进行切割\n",
    "    index = 1\n",
    "    while index < len(spec_data):\n",
    "        if len(real_data)< 60:\n",
    "            real_data = real_data.append(spec_data.iloc[index])\n",
    "        if len(real_data) == 60:\n",
    "            real_datas.append(real_data)\n",
    "            real_data = new_data_frame(spec_data, index)\n",
    "        index +=1\n",
    "print(len(real_datas))\n",
    "print(real_datas[0])\n",
    "for i in range(len(real_datas)):\n",
    "    real_datas[i]['icao24'] = str(i)\n",
    "data = pd.concat(real_datas, axis=0, ignore_index=True)\n",
    "data.head(10)\n",
    "\n",
    "    # 分组替换reg值\n",
    "    # group = int(len(spec_data)/60) + 1\n",
    "    # print(len(spec_data))\n",
    "    # # print(len(spec_data),group)\n",
    "    # for i in range(0,group-1):\n",
    "    #     previous = i*60\n",
    "    #     after = (i+1)*60\n",
    "    #     # spec_data.loc[previous:after]\n",
    "    #     print(previous, after)\n",
    "    # print(after,after + len(spec_data)%60 )"
   ]
  },
  {
   "cell_type": "code",
   "execution_count": null,
   "metadata": {
    "pycharm": {
     "name": "#%%\n"
    }
   },
   "outputs": [],
   "source": [
    "print(real_datas[0])\n",
    "# data.drop_duplicates(subset=['time','icao24'],keep='first',inplace=True)\n",
    "# data.drop_duplicates(subset=['icao24', 'lat', 'lon', 'baroaltitude'],keep='first',inplace=True)\n",
    "data.info()\n"
   ]
  }
 ],
 "metadata": {
  "kernelspec": {
   "display_name": "Python 3",
   "language": "python",
   "name": "python3"
  },
  "language_info": {
   "codemirror_mode": {
    "name": "ipython",
    "version": 3
   },
   "file_extension": ".py",
   "mimetype": "text/x-python",
   "name": "python",
   "nbconvert_exporter": "python",
   "pygments_lexer": "ipython3",
   "version": "3.7.1"
  }
 },
 "nbformat": 4,
 "nbformat_minor": 1
}